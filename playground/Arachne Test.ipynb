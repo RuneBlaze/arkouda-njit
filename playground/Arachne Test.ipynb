{
 "cells": [
  {
   "cell_type": "code",
   "execution_count": 1,
   "id": "033a069c",
   "metadata": {},
   "outputs": [],
   "source": [
    "import sys\n",
    "sys.path.append(\"..\")"
   ]
  },
  {
   "cell_type": "code",
   "execution_count": 2,
   "id": "20983eae",
   "metadata": {},
   "outputs": [
    {
     "name": "stdout",
     "output_type": "stream",
     "text": [
      "    _         _                   _       \n",
      "   / \\   _ __| | _____  _   _  __| | __ _ \n",
      "  / _ \\ | '__| |/ / _ \\| | | |/ _` |/ _` |\n",
      " / ___ \\| |  |   < (_) | |_| | (_| | (_| |\n",
      "/_/   \\_\\_|  |_|\\_\\___/ \\__,_|\\__,_|\\__,_|\n",
      "                                          \n",
      "\n",
      "Client Version: v2022.12.09+19.gb4365e35.dirty\n"
     ]
    }
   ],
   "source": [
    "from client.arkouda_graph.graph import *\n",
    "from client.suffix_array.suffix_array import *"
   ]
  },
  {
   "cell_type": "code",
   "execution_count": 3,
   "id": "8c8ca3bc",
   "metadata": {},
   "outputs": [],
   "source": [
    "import arkouda as ak"
   ]
  },
  {
   "cell_type": "code",
   "execution_count": 4,
   "id": "8ae25fd5",
   "metadata": {},
   "outputs": [
    {
     "name": "stderr",
     "output_type": "stream",
     "text": [
      "connected to arkouda server tcp://*:5555\n"
     ]
    }
   ],
   "source": [
    "ak.connect()"
   ]
  },
  {
   "cell_type": "code",
   "execution_count": 5,
   "id": "70f1d6e3",
   "metadata": {},
   "outputs": [
    {
     "name": "stdout",
     "output_type": "stream",
     "text": [
      "1 2 1082040961\r\n",
      "3 4 1082155839\r\n",
      "5 2 1082414391\r\n",
      "6 7 1082439619\r\n",
      "8 7 1082439756\r\n",
      "9 10 1082440403\r\n",
      "9 11 1082440453\r\n",
      "12 13 1082441188\r\n",
      "9 14 1082441754\r\n",
      "9 15 1082441824\r\n"
     ]
    }
   ],
   "source": [
    "!head /Users/lbq/research/linegraphs/playground/CollegeMsg.txt"
   ]
  },
  {
   "cell_type": "code",
   "execution_count": 6,
   "id": "c464b18c",
   "metadata": {},
   "outputs": [],
   "source": [
    "g = graph_file_read(59835, 1899, 3, 0, \"/Users/lbq/research/linegraphs/playground/CollegeMsg.txt\")"
   ]
  },
  {
   "cell_type": "code",
   "execution_count": 7,
   "id": "00295339",
   "metadata": {},
   "outputs": [
    {
     "data": {
      "text/plain": [
       "20296"
      ]
     },
     "execution_count": 7,
     "metadata": {},
     "output_type": "execute_result"
    }
   ],
   "source": [
    "edges = set()\n",
    "for u, v in zip(graph_query(g, 'src').to_ndarray(), graph_query(g, 'dst').to_ndarray()):\n",
    "    edges.add((u, v))\n",
    "len(edges)"
   ]
  },
  {
   "cell_type": "code",
   "execution_count": 8,
   "id": "17f81b0a",
   "metadata": {},
   "outputs": [],
   "source": [
    "a = graph_query(g, 'e_weight').to_ndarray()"
   ]
  },
  {
   "cell_type": "code",
   "execution_count": 11,
   "id": "8caf34bc",
   "metadata": {},
   "outputs": [],
   "source": [
    "src = graph_query(g, 'src').to_ndarray()\n",
    "dst = graph_query(g, 'dst').to_ndarray()\n",
    "e_weight = graph_query(g, 'e_weight').to_ndarray()\n",
    "start = graph_query(g, 'start_iR').to_ndarray()\n",
    "srcR = graph_query(g, 'srcR').to_ndarray()\n",
    "dstR = graph_query(g, 'dstR').to_ndarray()\n",
    "e_weightR = graph_query(g, 'e_weight_r').to_ndarray()"
   ]
  },
  {
   "cell_type": "code",
   "execution_count": 12,
   "id": "f92a4c70",
   "metadata": {},
   "outputs": [
    {
     "data": {
      "text/plain": [
       "array([    0,   134,   145, ..., 59833, 59834,    -1])"
      ]
     },
     "execution_count": 12,
     "metadata": {},
     "output_type": "execute_result"
    }
   ],
   "source": [
    "start"
   ]
  },
  {
   "cell_type": "code",
   "execution_count": null,
   "id": "e8747454",
   "metadata": {},
   "outputs": [],
   "source": [
    "len(set(zip(src, dst)))"
   ]
  },
  {
   "cell_type": "code",
   "execution_count": null,
   "id": "332769c2",
   "metadata": {},
   "outputs": [],
   "source": [
    "import pandas as pd"
   ]
  },
  {
   "cell_type": "code",
   "execution_count": null,
   "id": "b3ddeb14",
   "metadata": {},
   "outputs": [],
   "source": [
    "df = pd.read_csv(\"/Users/lbq/research/linegraphs/playground/CollegeMsg.txt\", sep = ' ', names = ['Sender','Receiver', 'Time'])"
   ]
  },
  {
   "cell_type": "code",
   "execution_count": null,
   "id": "280c6b83",
   "metadata": {},
   "outputs": [],
   "source": [
    "list(zip(src,dst,e_weight))"
   ]
  },
  {
   "cell_type": "code",
   "execution_count": null,
   "id": "105eca80",
   "metadata": {},
   "outputs": [],
   "source": []
  }
 ],
 "metadata": {
  "kernelspec": {
   "display_name": "Python 3 (ipykernel)",
   "language": "python",
   "name": "python3"
  },
  "language_info": {
   "codemirror_mode": {
    "name": "ipython",
    "version": 3
   },
   "file_extension": ".py",
   "mimetype": "text/x-python",
   "name": "python",
   "nbconvert_exporter": "python",
   "pygments_lexer": "ipython3",
   "version": "3.9.13"
  }
 },
 "nbformat": 4,
 "nbformat_minor": 5
}
